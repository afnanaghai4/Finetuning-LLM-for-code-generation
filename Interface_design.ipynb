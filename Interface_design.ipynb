{
  "nbformat": 4,
  "nbformat_minor": 0,
  "metadata": {
    "colab": {
      "provenance": []
    },
    "kernelspec": {
      "name": "python3",
      "display_name": "Python 3"
    },
    "language_info": {
      "name": "python"
    }
  },
  "cells": [
    {
      "cell_type": "markdown",
      "source": [
        "# Interface Design\n"
      ],
      "metadata": {
        "id": "O1Nkjvmfsm1x"
      }
    },
    {
      "cell_type": "code",
      "execution_count": null,
      "metadata": {
        "id": "qcJbknnKr30B"
      },
      "outputs": [],
      "source": [
        "!pip install -q streamlit\n",
        "\n",
        "# import streamlit app\n",
        "import streamlit as st\n",
        "import requests\n",
        "import json"
      ]
    },
    {
      "cell_type": "code",
      "source": [
        "def get_response_ui(user_input):\n",
        "    # prepare the prompt\n",
        "    # you can add any details you want\n",
        "    prompt = user_input\n",
        "\n",
        "    return get_response(prompt, model_B_HF, tokenizer_B_HF)"
      ],
      "metadata": {
        "id": "3n3EMRiKr77Q"
      },
      "execution_count": null,
      "outputs": []
    },
    {
      "cell_type": "code",
      "source": [
        "print(get_response_ui(\"add 2 numbers in python\"))"
      ],
      "metadata": {
        "colab": {
          "base_uri": "https://localhost:8080/"
        },
        "id": "BYdHRu6MJOvH",
        "outputId": "a6499e10-4d40-44d8-e1bc-cda88ecf2ccc"
      },
      "execution_count": null,
      "outputs": [
        {
          "output_type": "stream",
          "name": "stdout",
          "text": [
            "<s>[INST] add 2 numbers in python  \n",
            "Don't exceed the response from 350 characters. [/INST]  Sure! Here is an example of how to add two numbers in Python:\n",
            "```\n",
            "num1 = 5\n",
            "num2 = 7\n",
            "\n",
            "result = num1 + num2\n",
            "\n",
            "print(result) # Output: 12\n",
            "```\n",
            "This code defines two variables `num1` and `num2` and then adds them together using the `+` operator. The result is stored in the variable `result` and then printed to the console.\n",
            "<s>[INST] add 2 numbers in python  \n",
            "Don't exceed the response from 350 characters. [/INST]  Sure! Here is an example of how to add two numbers in Python:\n",
            "```\n",
            "num1 = 5\n",
            "num2 = 7\n",
            "\n",
            "result = num1 + num2\n",
            "\n",
            "print(result) # Output: 12\n",
            "```\n",
            "This code defines two variables `num1` and `num2` and then adds them together using the `+` operator. The result is stored in the variable `result` and then printed to the console.\n"
          ]
        }
      ]
    },
    {
      "cell_type": "code",
      "source": [
        "def code_generator():\n",
        "    # simple title for the page\n",
        "    st.title(\"Code_Genie\")\n",
        "    # take user input\n",
        "    user_input = st.text_input(\"enter the query for which you want the code\", key=\"input1\")\n",
        "    # button to ask the model\n",
        "    if st.button(\"Send\", key=\"button1\"):\n",
        "        if user_input:\n",
        "            # send to backend\n",
        "            return get_response_ui(user_input)\n",
        "        else:\n",
        "            # if user click button without text in the input box\n",
        "            return \"Please Enter Some Text\"\n",
        "\n",
        "# string output as a markdown\n",
        "def show(output):\n",
        "    if output:\n",
        "        st.markdown(output)\n",
        "\n",
        "# main function to wrap everything in one tab\n",
        "def main():\n",
        "      output = code_generator()\n",
        "      show(output)\n",
        "\n",
        "# run the main function\n",
        "if __name__ == \"__main__\":\n",
        "    main()"
      ],
      "metadata": {
        "id": "VCwKYUi1r7_7"
      },
      "execution_count": null,
      "outputs": []
    },
    {
      "cell_type": "code",
      "source": [
        "app_file_str = \"\"\"\n",
        "import streamlit as st\n",
        "import requests\n",
        "import json\n",
        "\n",
        "\n",
        "\n",
        "def get_response_ui(user_input):\n",
        "    # prepare the prompt\n",
        "    # you can add any details you want\n",
        "    prompt = user_input\n",
        "\n",
        "    return get_response(prompt, model_B_HF, tokenizer_B_HF)\n",
        "\n",
        "\n",
        "def code_generator():\n",
        "    # simple title for the page\n",
        "    st.title(\"Code_Genie\")\n",
        "    # take user input\n",
        "    user_input = st.text_input(\"enter the query for which you want the code\", key=\"input1\")\n",
        "    # button to ask the model\n",
        "    if st.button(\"Send\", key=\"button1\"):\n",
        "        if user_input:\n",
        "            # send to backend\n",
        "            return get_response_ui(user_input)\n",
        "        else:\n",
        "            # if user click button without text in the input box\n",
        "            return \"Please Enter Some Text\"\n",
        "\n",
        "# string output as a markdown\n",
        "def show(output):\n",
        "    if output:\n",
        "        st.markdown(output)\n",
        "\n",
        "# main function to wrap everything in one tab\n",
        "def main():\n",
        "      output = code_generator()\n",
        "      show(output)\n",
        "\n",
        "# run the main function\n",
        "if __name__ == \"__main__\":\n",
        "    main()\n",
        "\"\"\"\n",
        "\n",
        "with open(\"app.py\", 'w') as file:\n",
        "    # Write the code content to the file\n",
        "    file.write(app_file_str)"
      ],
      "metadata": {
        "id": "mPw85NsxIyql"
      },
      "execution_count": null,
      "outputs": []
    },
    {
      "cell_type": "code",
      "source": [
        "import locale\n",
        "locale.getpreferredencoding = lambda: \"UTF-8\""
      ],
      "metadata": {
        "id": "p6KTd1EiWHrQ"
      },
      "execution_count": null,
      "outputs": []
    },
    {
      "cell_type": "code",
      "source": [
        "!npm install --silent localtunnel"
      ],
      "metadata": {
        "colab": {
          "base_uri": "https://localhost:8080/"
        },
        "id": "Ni97CRq-VWr_",
        "outputId": "8ac83ef1-937d-40e6-b1cd-03638704d343"
      },
      "execution_count": null,
      "outputs": [
        {
          "output_type": "stream",
          "name": "stdout",
          "text": [
            "\u001b[K\u001b[?25h+ localtunnel@2.0.2\n",
            "added 22 packages from 22 contributors and audited 22 packages in 3.033s\n",
            "\n",
            "3 packages are looking for funding\n",
            "  run `npm fund` for details\n",
            "\n",
            "found 1 \u001b[93mmoderate\u001b[0m severity vulnerability\n",
            "  run `npm audit fix` to fix them, or `npm audit` for details\n",
            "\u001b[K\u001b[?25h"
          ]
        }
      ]
    },
    {
      "cell_type": "code",
      "source": [
        "!streamlit run /content/app.py"
      ],
      "metadata": {
        "colab": {
          "base_uri": "https://localhost:8080/"
        },
        "id": "9BCkqi3CYlgT",
        "outputId": "d8cf4e15-919b-4fc5-9a2d-29a5ecb8db37"
      },
      "execution_count": null,
      "outputs": [
        {
          "output_type": "stream",
          "name": "stdout",
          "text": [
            "\n",
            "Collecting usage statistics. To deactivate, set browser.gatherUsageStats to false.\n",
            "\u001b[0m\n",
            "\u001b[0m\n",
            "\u001b[34m\u001b[1m  You can now view your Streamlit app in your browser.\u001b[0m\n",
            "\u001b[0m\n",
            "\u001b[34m  Network URL: \u001b[0m\u001b[1mhttp://172.28.0.12:8501\u001b[0m\n",
            "\u001b[34m  External URL: \u001b[0m\u001b[1mhttp://35.233.183.227:8501\u001b[0m\n",
            "\u001b[0m\n",
            "\u001b[34m  Stopping...\u001b[0m\n",
            "^C\n"
          ]
        }
      ]
    },
    {
      "cell_type": "code",
      "source": [
        "!streamlit run app.py &>/content/logs.txt &"
      ],
      "metadata": {
        "id": "xL0ih8dKVZth"
      },
      "execution_count": null,
      "outputs": []
    },
    {
      "cell_type": "code",
      "source": [
        "!npx localtunnel --port 8501 & curl ipv4.icanhazip.com"
      ],
      "metadata": {
        "colab": {
          "base_uri": "https://localhost:8080/"
        },
        "id": "O9BAy85uVZvy",
        "outputId": "95896efe-8102-4f6d-f672-72dbc43a660e"
      },
      "execution_count": null,
      "outputs": [
        {
          "output_type": "stream",
          "name": "stdout",
          "text": [
            "35.233.183.227\n",
            "\u001b[K\u001b[?25hnpx: installed 22 in 1.802s\n",
            "your url is: https://sad-horses-learn.loca.lt\n"
          ]
        }
      ]
    }
  ]
}